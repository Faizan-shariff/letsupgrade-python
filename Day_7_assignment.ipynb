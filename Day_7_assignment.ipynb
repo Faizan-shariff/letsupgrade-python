{
  "nbformat": 4,
  "nbformat_minor": 0,
  "metadata": {
    "colab": {
      "name": "Day 7 assignment.ipynb",
      "provenance": [],
      "collapsed_sections": [],
      "authorship_tag": "ABX9TyO+rOAGIUn1sXrcd3WqIE1t",
      "include_colab_link": true
    },
    "kernelspec": {
      "name": "python3",
      "display_name": "Python 3"
    }
  },
  "cells": [
    {
      "cell_type": "markdown",
      "metadata": {
        "id": "view-in-github",
        "colab_type": "text"
      },
      "source": [
        "<a href=\"https://colab.research.google.com/github/Faizan-shariff/letsupgrade-python/blob/master/Day_7_assignment.ipynb\" target=\"_parent\"><img src=\"https://colab.research.google.com/assets/colab-badge.svg\" alt=\"Open In Colab\"/></a>"
      ]
    },
    {
      "cell_type": "markdown",
      "metadata": {
        "id": "SFPKYG_i9zsE",
        "colab_type": "text"
      },
      "source": [
        "Assignment 1:\n",
        "      Swapping dictionary keys and values"
      ]
    },
    {
      "cell_type": "code",
      "metadata": {
        "id": "e8qYNoqR6WiH",
        "colab_type": "code",
        "colab": {
          "base_uri": "https://localhost:8080/",
          "height": 54
        },
        "outputId": "1003e34e-c419-4e6b-d211-58b1a4e77f4f"
      },
      "source": [
        "port1 = {21:\"FTP\",22:\"SSH\",23:\"telnet\" ,80:\"http \"} \n",
        "port2 = dict([(value, key) for key, value in port1.items()]) \n",
        "print(port2)"
      ],
      "execution_count": 6,
      "outputs": [
        {
          "output_type": "stream",
          "text": [
            "{'FTP': 21, 'SSH': 22, 'telnet': 23, 'http ': 80}\n"
          ],
          "name": "stdout"
        }
      ]
    },
    {
      "cell_type": "markdown",
      "metadata": {
        "id": "oIg7tNig_Zg5",
        "colab_type": "text"
      },
      "source": [
        "Assignment 2:\n",
        "        Sum of number of tuples."
      ]
    },
    {
      "cell_type": "code",
      "metadata": {
        "id": "CsU_7sG9OgC8",
        "colab_type": "code",
        "colab": {
          "base_uri": "https://localhost:8080/",
          "height": 34
        },
        "outputId": "9b573927-822d-44b5-84dd-f03d9a12e480"
      },
      "source": [
        "list1=[(1,2),(3,4),(5,6),(4,5)]\n",
        "list2=[]\n",
        "for each in list1:\n",
        "    res=(sum(each))\n",
        "    list2.append(res)\n",
        "print(list2)"
      ],
      "execution_count": 40,
      "outputs": [
        {
          "output_type": "stream",
          "text": [
            "[3, 7, 11, 9]\n"
          ],
          "name": "stdout"
        }
      ]
    },
    {
      "cell_type": "markdown",
      "metadata": {
        "id": "mTupLUGQQYex",
        "colab_type": "text"
      },
      "source": [
        " Assignment 3:\n",
        "    Making a list from a list of tuples and list."
      ]
    },
    {
      "cell_type": "code",
      "metadata": {
        "id": "_zDng7-qech1",
        "colab_type": "code",
        "colab": {
          "base_uri": "https://localhost:8080/",
          "height": 54
        },
        "outputId": "d622a7c2-f95b-4b5e-cff1-cd997b79dc01"
      },
      "source": [
        "list1=[(1,2,3),[1,2],[\"a\",\"hit\",\"less\"]]\n",
        "list2=[]\n",
        "for i in range(len(list1)): \n",
        "  for j in range (len(list1[i])): \n",
        "    list2.append(list1[i][j])\n",
        "print(list2)"
      ],
      "execution_count": 61,
      "outputs": [
        {
          "output_type": "stream",
          "text": [
            "[1, 2, 3, 1, 2, 'a', 'hit', 'less']\n"
          ],
          "name": "stdout"
        }
      ]
    }
  ]
}