{
  "nbformat": 4,
  "nbformat_minor": 0,
  "metadata": {
    "colab": {
      "name": "Day 6 Assignment.ipynb",
      "provenance": [],
      "collapsed_sections": [],
      "authorship_tag": "ABX9TyOdcBRNdSssW32mJ5z2Kki7",
      "include_colab_link": true
    },
    "kernelspec": {
      "name": "python3",
      "display_name": "Python 3"
    }
  },
  "cells": [
    {
      "cell_type": "markdown",
      "metadata": {
        "id": "view-in-github",
        "colab_type": "text"
      },
      "source": [
        "<a href=\"https://colab.research.google.com/github/Faizan-shariff/letsupgrade-python/blob/master/Day_6_Assignment.ipynb\" target=\"_parent\"><img src=\"https://colab.research.google.com/assets/colab-badge.svg\" alt=\"Open In Colab\"/></a>"
      ]
    },
    {
      "cell_type": "markdown",
      "metadata": {
        "id": "T4_i4iN_Q50h",
        "colab_type": "text"
      },
      "source": [
        " ASSIGNMENT:\n",
        "     Convert to a dictionary in one line code using list comprehension."
      ]
    },
    {
      "cell_type": "code",
      "metadata": {
        "id": "P4T1PcSYQyXJ",
        "colab_type": "code",
        "colab": {
          "base_uri": "https://localhost:8080/",
          "height": 54
        },
        "outputId": "24f15662-02d6-47d9-92b3-3363c651b347"
      },
      "source": [
        "list1 = [1,2,3,4,5,7,8] \n",
        "list2 = [\"a\",\"b\",\"c\",\"d\",\"e\"]\n",
        " \n",
        "res = {list1[i]:list2[i] for i in range(min(len(list1),len(list2)))} \n",
        " \n",
        "print (\"Resultant dictionary is : \" , str(res))"
      ],
      "execution_count": null,
      "outputs": [
        {
          "output_type": "stream",
          "text": [
            "Resultant dictionary is :  {1: 'a', 2: 'b', 3: 'c', 4: 'd', 5: 'e'}\n"
          ],
          "name": "stdout"
        }
      ]
    }
  ]
}