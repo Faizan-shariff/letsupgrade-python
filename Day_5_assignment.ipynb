{
  "nbformat": 4,
  "nbformat_minor": 0,
  "metadata": {
    "colab": {
      "name": "Day 5 assignment",
      "provenance": [],
      "collapsed_sections": [],
      "authorship_tag": "ABX9TyM/JZi58iWYvXcym0tqqshw",
      "include_colab_link": true
    },
    "kernelspec": {
      "name": "python3",
      "display_name": "Python 3"
    }
  },
  "cells": [
    {
      "cell_type": "markdown",
      "metadata": {
        "id": "view-in-github",
        "colab_type": "text"
      },
      "source": [
        "<a href=\"https://colab.research.google.com/github/Faizan-shariff/letsupgrade-python/blob/master/Day_5_assignment.ipynb\" target=\"_parent\"><img src=\"https://colab.research.google.com/assets/colab-badge.svg\" alt=\"Open In Colab\"/></a>"
      ]
    },
    {
      "cell_type": "markdown",
      "metadata": {
        "id": "nJgkaA5EPxfg",
        "colab_type": "text"
      },
      "source": [
        "ASSIGNMENT 1"
      ]
    },
    {
      "cell_type": "code",
      "metadata": {
        "id": "YYxfYvKHFsEu",
        "colab_type": "code",
        "colab": {
          "base_uri": "https://localhost:8080/",
          "height": 54
        },
        "outputId": "727224e9-5b5c-4562-ace2-6d711b0612bd"
      },
      "source": [
        " \n",
        "list1 =  [0,1,2,10,4,1,0,56,2,0,1,3,0,56,0,4]\n",
        "def ascending(list1): \n",
        "     \n",
        "    return [nonZero for nonZero in list1 if nonZero!=0] + [Zero for Zero in list1 if Zero==0] \n",
        "  \n",
        "if __name__ == \"__main__\": \n",
        "    list1.sort()\n",
        "    print (ascending(list1))"
      ],
      "execution_count": null,
      "outputs": [
        {
          "output_type": "stream",
          "text": [
            "[1, 1, 1, 2, 2, 3, 4, 4, 10, 56, 56, 0, 0, 0, 0, 0]\n"
          ],
          "name": "stdout"
        }
      ]
    },
    {
      "cell_type": "markdown",
      "metadata": {
        "id": "e6t5CW3kPuSw",
        "colab_type": "text"
      },
      "source": [
        " ASSIGNMENT 2"
      ]
    },
    {
      "cell_type": "code",
      "metadata": {
        "id": "6wRM7ySHJwtK",
        "colab_type": "code",
        "colab": {
          "base_uri": "https://localhost:8080/",
          "height": 89
        },
        "outputId": "8b8befd3-042d-42fa-8da9-5abc6c8134bf"
      },
      "source": [
        " \n",
        "list1 = [10,20,40,60,70,80] \n",
        "list2 = [5,15,25,35,45,60] \n",
        "   \n",
        "print (\"The original list 1 is : \" + str(list1)) \n",
        "print (\"The original list 2 is : \" + str(list2)) \n",
        "  \n",
        "size_1 = len(list1) \n",
        "size_2 = len(list2) \n",
        "  \n",
        "res = [] \n",
        "i, j = 0, 0\n",
        "  \n",
        "while i < size_1 and j < size_2: \n",
        "    if list1[i] < list2[j]: \n",
        "      res.append(list1[i]) \n",
        "      i += 1\n",
        "  \n",
        "    else: \n",
        "      res.append(list2[j]) \n",
        "      j += 1\n",
        "  \n",
        "res = res + list1[i:] + list2[j:] \n",
        "   \n",
        "print (\"The combined sorted list is : \" + str(res))"
      ],
      "execution_count": null,
      "outputs": [
        {
          "output_type": "stream",
          "text": [
            "The original list 1 is : [10, 20, 40, 60, 70, 80]\n",
            "The original list 2 is : [5, 15, 25, 35, 45, 60]\n",
            "The combined sorted list is : [5, 10, 15, 20, 25, 35, 40, 45, 60, 60, 70, 80]\n"
          ],
          "name": "stdout"
        }
      ]
    }
  ]
}